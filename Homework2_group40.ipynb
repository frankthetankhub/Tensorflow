{
 "cells": [
  {
   "cell_type": "code",
   "execution_count": 37,
   "metadata": {},
   "outputs": [],
   "source": [
    "import numpy as np"
   ]
  },
  {
   "cell_type": "markdown",
   "metadata": {},
   "source": [
    "## 1. Preperation"
   ]
  },
  {
   "cell_type": "markdown",
   "metadata": {},
   "source": [
    "1.1 An activation function relates incoming signal to outgoing signal. It determines if and how strong a neuron responses to input.\n",
    "1.2 The advantage lies in it being differentiable and thus allowing us to use backpropagation.\n",
    "1.3 The formula is above. the graph looks like a stretched out S\n",
    "1.4 The derivative is: sigmoid(x) * (1 - sigmoid(x)) or (e^x)/(1+e^-x)^2 \n"
   ]
  },
  {
   "cell_type": "code",
   "execution_count": 38,
   "metadata": {},
   "outputs": [],
   "source": [
    "def sigmoid(x):\n",
    "    if(not (isinstance(x, float) or isinstance(x, int))):\n",
    "        return\n",
    "    return 1/(1+np.exp(-x))\n",
    "\n",
    "def sigmoidprime(x):\n",
    "    return sigmoid(x) * (1 - sigmoid(x)) \n",
    "\n",
    "#use to calculate sigmoidprime if x = sigmoid(y)\n",
    "def sigmoidprime_of_activation(x):\n",
    "    return x *(1 - x)"
   ]
  },
  {
   "cell_type": "markdown",
   "metadata": {},
   "source": [
    "## 2. Data Set"
   ]
  },
  {
   "cell_type": "code",
   "execution_count": 39,
   "metadata": {},
   "outputs": [],
   "source": [
    "inputArr = np.array([[0,0],\n",
    "              [1,0],\n",
    "              [0,1],\n",
    "              [1,1]])\n",
    "\n",
    "andLabel = np.array([0,0,0,1])\n",
    "orLabel = np.array([0,1,1,1])\n",
    "notandLabel = np.array([1,1,1,0])\n",
    "notorLabel = np.array([1,0,0,0])\n",
    "xorLabel = np.array([0,1,1,0])\n",
    "allLabels = [andLabel, orLabel, notandLabel, notorLabel, xorLabel]"
   ]
  },
  {
   "cell_type": "markdown",
   "metadata": {},
   "source": [
    "## 3. Perceptron"
   ]
  },
  {
   "cell_type": "code",
   "execution_count": 40,
   "metadata": {},
   "outputs": [],
   "source": [
    "class Perceptron:\n",
    "    def __init__(self,input_units):\n",
    "        self.alpha = 1\n",
    "        self.weights = np.random.rand(input_units)\n",
    "        self.bias = np.random.randn()\n",
    "        self.drive = 0\n",
    "        if(isinstance(input_units, int)):\n",
    "            self.input_units = input_units\n",
    "        else:\n",
    "            raise Exception(\"input_units takes only integers as an argument\")\n",
    "            \n",
    "    def forward_step(self, inputs):\n",
    "        self.inputs = np.array(inputs)\n",
    "        self.drive = self.weights @ self.inputs + self.bias\n",
    "        return sigmoid(self.drive)\n",
    "        \n",
    "    def update(self, inputs, delta):\n",
    "        self.weights = self.weights - inputs * self.alpha * delta\n",
    "        self.bais = self.bias - self.alpha * delta"
   ]
  },
  {
   "cell_type": "markdown",
   "metadata": {},
   "source": [
    "## 4.&5. Multi-Layer Perceptron / Training"
   ]
  },
  {
   "cell_type": "code",
   "execution_count": 41,
   "metadata": {},
   "outputs": [],
   "source": [
    "class Layer:\n",
    "    def __init__(self,number_of_perceptrons, number_of_inputunits):\n",
    "        self.layercontent = [Perceptron(number_of_inputunits) for _ in range(number_of_perceptrons)]\n",
    "        \n",
    "    def forward_step(self, inputs):\n",
    "        output = np.array([perceptron.forward_step(inputs) for perceptron in self.layercontent])\n",
    "        return output\n",
    "    \n",
    "    def update_layer(self,  inputs, deltaArr):\n",
    "        for delta,perceptron in zip(deltaArr, self.layercontent):\n",
    "            perceptron.update(inputs, delta)\n",
    "    \n",
    "    def get_layerweights(self):\n",
    "        return np.array([perceptron.weights for perceptron in self.layercontent])"
   ]
  },
  {
   "cell_type": "code",
   "execution_count": 42,
   "metadata": {},
   "outputs": [],
   "source": [
    "class MLP:\n",
    "    \n",
    "    def __init__(self, Layers = [Layer(4,2),Layer(1,4)]):\n",
    "        self.layers = Layers\n",
    "        self.layer_activations = []\n",
    "        self.steps = []\n",
    "        self.accuracies = []\n",
    "        self.MSE = []\n",
    "        \n",
    "    def forward_step(self, input):\n",
    "        for layer in self.layers:\n",
    "            input = layer.forward_step(input)\n",
    "        return input\n",
    "        \n",
    "    def backprop_step(self, input, target_value):\n",
    "        self.layer_activations = [input]\n",
    "        for layer in self.layers:\n",
    "            input= layer.forward_step(input)\n",
    "            self.layer_activations.append(input)\n",
    "        self.layer_activations.reverse()\n",
    "        delta = -(target_value - self.layer_activations[0])    \n",
    "        for i in range(len(self.layers)):\n",
    "            reversedLayers = self.layers[::-1]\n",
    "            deltaArr = sigmoidprime_of_activation(self.layer_activations[i]) * delta\n",
    "            reversedLayers[i].update_layer(self.layer_activations[i+1],deltaArr)\n",
    "            delta = (np.dot(reversedLayers[i].get_layerweights().T, deltaArr))      \n",
    "                \n",
    "    def training_step(self, Labels):\n",
    "        self.steps =[]\n",
    "        self.accuracies =[]\n",
    "        self.MSE =[]\n",
    "        j = 0\n",
    "        for label in Labels:\n",
    "            for i in range(1000):\n",
    "                j +=1\n",
    "                self.steps.append(j)\n",
    "                index = np.random.randint(len(inputArr))\n",
    "                sample = inputArr[index]\n",
    "                target = label[index]\n",
    "\n",
    "                mlp.backprop_step(sample, target)\n",
    "\n",
    "                accuracy_sum = 0\n",
    "                loss_sum = 0\n",
    "                for k in range(len(inputArr)):\n",
    "                    output = mlp.forward_step(inputArr[k])  \n",
    "                    accuracy_sum += int((output>0.5) == label[k]) \n",
    "                    loss_sum += (label[k]-output)**2\n",
    "                accuracy = accuracy_sum / len(inputArr)             \n",
    "                self.accuracies.append(accuracy)\n",
    "                loss = loss_sum / len(inputArr)\n",
    "                self.MSE.append(loss)\n"
   ]
  },
  {
   "cell_type": "markdown",
   "metadata": {},
   "source": [
    "## 6. Visualization"
   ]
  },
  {
   "cell_type": "code",
   "execution_count": 44,
   "metadata": {},
   "outputs": [
    {
     "data": {
      "image/png": "[encoded data removed]",
      "text/plain": [
       "<Figure size 432x288 with 1 Axes>"
      ]
     },
     "metadata": {
      "needs_background": "light"
     },
     "output_type": "display_data"
    },
    {
     "data": {
      "image/png": "[encoded data removed]",
      "text/plain": [
       "<Figure size 432x288 with 1 Axes>"
      ]
     },
     "metadata": {
      "needs_background": "light"
     },
     "output_type": "display_data"
    }
   ],
   "source": [
    "mlp = MLP()\n",
    "mlp.training_step(allLabels)\n",
    "steps = np.reshape(mlp.steps, (5000,))\n",
    "accuracies = mlp.accuracies\n",
    "MSE = np.reshape(mlp.MSE,(5000,))\n",
    "\n",
    "import matplotlib.pyplot as plt\n",
    "plt.figure()\n",
    "plt.plot(steps, accuracies)\n",
    "plt.xlabel(\"Training Steps\")\n",
    "plt.ylabel(\"Accuracy\")\n",
    "plt.ylim([-0.1, 1.2])\n",
    "plt.figure()\n",
    "plt.plot(steps, MSE)\n",
    "plt.xlabel(\"Training Steps\")\n",
    "plt.ylabel(\"MSE\")\n",
    "\n",
    "plt.show()"
   ]
  },
  {
   "cell_type": "code",
   "execution_count": null,
   "metadata": {},
   "outputs": [],
   "source": []
  }
 ],
 "metadata": {
  "kernelspec": {
   "display_name": "Python 3",
   "language": "python",
   "name": "python3"
  },
  "language_info": {
   "codemirror_mode": {
    "name": "ipython",
    "version": 3
   },
   "file_extension": ".py",
   "mimetype": "text/x-python",
   "name": "python",
   "nbconvert_exporter": "python",
   "pygments_lexer": "ipython3",
   "version": "3.7.6"
  }
 },
 "nbformat": 4,
 "nbformat_minor": 4
}
